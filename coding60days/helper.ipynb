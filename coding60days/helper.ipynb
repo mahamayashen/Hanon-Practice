{
 "cells": [
  {
   "cell_type": "code",
   "execution_count": null,
   "id": "b49d80e5",
   "metadata": {},
   "outputs": [],
   "source": [
    "# Definition for singly-linked list.\n",
    "# class ListNode:\n",
    "#     def __init__(self, val=0, next=None):\n",
    "#         self.val = val\n",
    "#         self.next = next\n",
    "class Solution:\n",
    "    def swapPairs(self, head: Optional[ListNode]) -> Optional[ListNode]:\n",
    "        dummy = ListNode()\n",
    "        dummy.next = head\n",
    "        pre, p1 = dummy, head\n",
    "        while p1 and p1.next:\n",
    "            # p1 is the first node of the pair, p2 is the second node\n",
    "            # temp is the node after the pair\n",
    "            p2 = p1.next\n",
    "            temp = p2.next\n",
    "            # Swap the pair\n",
    "            # Result: pre -> p2 -> p1 -> temp\n",
    "            # The sequence of the following three lines can be swapped\n",
    "            # because we have already stored the next node in temp.\n",
    "            pre.next = p2\n",
    "            p2.next = p1\n",
    "            p1.next = temp\n",
    "            # Move pointers forward\n",
    "            pre = p1\n",
    "            p1 = temp\n",
    "        \n",
    "        return dummy.next\n",
    "\n",
    "# There are three main steps in the algorithm:\n",
    "# 1. Identify the nodes to swap (p1 and p2).\n",
    "# 2. Perform the swap by adjusting the pointers.\n",
    "# 3. Move the pointers forward to the next pair.\n",
    "\n",
    "# The time complexity is O(n) where n is the number of nodes in the linked list,\n",
    "# and the space complexity is O(1) since we are using a constant amount of extra space."
   ]
  },
  {
   "cell_type": "code",
   "execution_count": null,
   "id": "d8aa27e6",
   "metadata": {},
   "outputs": [],
   "source": [
    "class Solution:\n",
    "    def detectCycle(self, head: Optional[ListNode]) -> Optional[ListNode]:\n",
    "        slow = head\n",
    "        fast = head\n",
    "        \n",
    "        while fast and fast.next:\n",
    "            slow = slow.next\n",
    "            fast = fast.next.next\n",
    "            \n",
    "            # If there is a cycle, the slow and fast pointers will eventually meet\n",
    "            if slow == fast:\n",
    "                # Move one of the pointers back to the start of the list\n",
    "                # and move both pointers one step at a time until they meet again\n",
    "                slow = head\n",
    "                while slow != fast:\n",
    "                    slow = slow.next\n",
    "                    fast = fast.next\n",
    "                return slow\n",
    "                \n",
    "        # If there is no cycle, return None\n",
    "        return None"
   ]
  }
 ],
 "metadata": {
  "language_info": {
   "name": "python"
  }
 },
 "nbformat": 4,
 "nbformat_minor": 5
}
