{
 "cells": [
  {
   "cell_type": "code",
   "execution_count": null,
   "id": "b49d80e5",
   "metadata": {},
   "outputs": [],
   "source": [
    "# Definition for singly-linked list.\n",
    "# class ListNode:\n",
    "#     def __init__(self, val=0, next=None):\n",
    "#         self.val = val\n",
    "#         self.next = next\n",
    "class Solution:\n",
    "    def swapPairs(self, head: Optional[ListNode]) -> Optional[ListNode]:\n",
    "        dummy = ListNode()\n",
    "        dummy.next = head\n",
    "        pre, p1 = dummy, head\n",
    "        while p1 and p1.next:\n",
    "            # p1 is the first node of the pair, p2 is the second node\n",
    "            # temp is the node after the pair\n",
    "            p2 = p1.next\n",
    "            temp = p2.next\n",
    "            # Swap the pair\n",
    "            # Result: pre -> p2 -> p1 -> temp\n",
    "            # The sequence of the following three lines can be swapped\n",
    "            # because we have already stored the next node in temp.\n",
    "            pre.next = p2\n",
    "            p2.next = p1\n",
    "            p1.next = temp\n",
    "            # Move pointers forward\n",
    "            pre = p1\n",
    "            p1 = temp\n",
    "        \n",
    "        return dummy.next\n",
    "\n",
    "# There are three main steps in the algorithm:\n",
    "# 1. Identify the nodes to swap (p1 and p2).\n",
    "# 2. Perform the swap by adjusting the pointers.\n",
    "# 3. Move the pointers forward to the next pair.\n",
    "\n",
    "# The time complexity is O(n) where n is the number of nodes in the linked list,\n",
    "# and the space complexity is O(1) since we are using a constant amount of extra space."
   ]
  },
  {
   "cell_type": "code",
   "execution_count": null,
   "id": "d8aa27e6",
   "metadata": {},
   "outputs": [],
   "source": [
    "class Solution:\n",
    "    def detectCycle(self, head: Optional[ListNode]) -> Optional[ListNode]:\n",
    "        slow = head\n",
    "        fast = head\n",
    "        \n",
    "        while fast and fast.next:\n",
    "            slow = slow.next\n",
    "            fast = fast.next.next\n",
    "            \n",
    "            # If there is a cycle, the slow and fast pointers will eventually meet\n",
    "            if slow == fast:\n",
    "                # Move one of the pointers back to the start of the list\n",
    "                # and move both pointers one step at a time until they meet again\n",
    "                slow = head\n",
    "                while slow != fast:\n",
    "                    slow = slow.next\n",
    "                    fast = fast.next\n",
    "                return slow\n",
    "                \n",
    "        # If there is no cycle, return None\n",
    "        return None"
   ]
  },
  {
   "cell_type": "code",
   "execution_count": 2,
   "id": "dd9d4d78",
   "metadata": {},
   "outputs": [
    {
     "name": "stdout",
     "output_type": "stream",
     "text": [
      "(12, 3)\n",
      "(2, 2)\n",
      "(8, 2)\n"
     ]
    }
   ],
   "source": [
    "print(divmod(123, 10)) # returns (12, 3)\n",
    "print(divmod(12, 5))   # returns (2, 2)\n",
    "print(divmod(26, 3))   # returns (8, 2)"
   ]
  },
  {
   "cell_type": "code",
   "execution_count": null,
   "id": "e699c0a7",
   "metadata": {},
   "outputs": [],
   "source": [
    "class Solution:\n",
    "    def threeSum(self, nums: List[int]) -> List[List[int]]:\n",
    "        nums.sort()\n",
    "        n = len(nums)\n",
    "        ans = []\n",
    "        # i, j, k are three pointers\n",
    "        # fix i; j，k are two opposite pointers\n",
    "        for i in range(n - 2):\n",
    "            # Skip duplicate values for fixed i\n",
    "            if i > 0 and nums[i] == nums[i-1]:\n",
    "                continue\n",
    "            # Prune the search space\n",
    "            # If the largest possible sum is less than 0, skip\n",
    "            if nums[i] + nums[n-1] + nums[n-2] < 0:\n",
    "                continue\n",
    "            # If the smallest possible sum is greater than 0, break\n",
    "            if nums[i] + nums[i+1] + nums[i+2] > 0:\n",
    "                break\n",
    "            j, k = i + 1, n - 1\n",
    "            target = - nums[i]\n",
    "            while j < k:\n",
    "                total = nums[j] + nums[k]\n",
    "                if total == target:\n",
    "                    # Found a triplet\n",
    "                    ans.append([nums[i], nums[j], nums[k]])\n",
    "                    # Move j and k to the next different elements\n",
    "                    # Avoid duplicates\n",
    "                    j += 1\n",
    "                    while j < k and nums[j] == nums[j-1]:\n",
    "                        j += 1\n",
    "                    k -= 1\n",
    "                    while j < k and nums[k] == nums[k+1]:\n",
    "                        k -= 1\n",
    "                elif total < target:\n",
    "                    j += 1\n",
    "                elif total > target:\n",
    "                    k -= 1\n",
    "\n",
    "        return ans\n",
    "                "
   ]
  },
  {
   "cell_type": "code",
   "execution_count": 5,
   "id": "da62bee6",
   "metadata": {},
   "outputs": [
    {
     "name": "stdout",
     "output_type": "stream",
     "text": [
      "[1, 0, 1, 0, 1, 0, 1, 0, 1, 0, 1]\n",
      "2\n",
      "[1, 0, 1, 0, 2, 0, 2, 0, 3, 0, 3]\n",
      "4\n",
      "[1, 0, 1, 0, 2, 0, 3, 0, 4, 0, 5]\n",
      "6\n"
     ]
    },
    {
     "data": {
      "text/plain": [
       "[0, 1, 0, 2, 0, 3, 0, 4, 0, 5]"
      ]
     },
     "execution_count": 5,
     "metadata": {},
     "output_type": "execute_result"
    }
   ],
   "source": [
    "def count_combinations(coins, N):\n",
    "    dp = [0] * (N + 1)\n",
    "    dp[0] = 1  # Base case: 1 way to make amount 0\n",
    "    \n",
    "    for coin in coins:\n",
    "        for amount in range(coin, N + 1):\n",
    "            dp[amount] += dp[amount - coin]\n",
    "        print(dp)\n",
    "        print(coin)\n",
    "    \n",
    "    return dp[1:]  # Return results for amounts 1 to N\n",
    "\n",
    "\n",
    "count_combinations([2, 4, 6], 10) "
   ]
  }
 ],
 "metadata": {
  "kernelspec": {
   "display_name": "Python 3",
   "language": "python",
   "name": "python3"
  },
  "language_info": {
   "codemirror_mode": {
    "name": "ipython",
    "version": 3
   },
   "file_extension": ".py",
   "mimetype": "text/x-python",
   "name": "python",
   "nbconvert_exporter": "python",
   "pygments_lexer": "ipython3",
   "version": "3.11.6"
  }
 },
 "nbformat": 4,
 "nbformat_minor": 5
}
